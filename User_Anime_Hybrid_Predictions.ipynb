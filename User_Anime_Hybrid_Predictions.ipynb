{
  "nbformat": 4,
  "nbformat_minor": 0,
  "metadata": {
    "colab": {
      "name": "User-Anime Hybrid Predictions.ipynb",
      "provenance": [],
      "collapsed_sections": [],
      "machine_shape": "hm",
      "mount_file_id": "1SNhIRm8dfz7MP4I4Ng30iT1xhyncDZqK",
      "authorship_tag": "ABX9TyPCh6YWP9SjkgI/kDT/OQ+4",
      "include_colab_link": true
    },
    "kernelspec": {
      "display_name": "Python 3",
      "name": "python3"
    },
    "language_info": {
      "name": "python"
    },
    "accelerator": "GPU"
  },
  "cells": [
    {
      "cell_type": "markdown",
      "metadata": {
        "id": "view-in-github",
        "colab_type": "text"
      },
      "source": [
        "<a href=\"https://colab.research.google.com/github/nomomon/anime-recommendations/blob/main/User_Anime_Hybrid_Predictions.ipynb\" target=\"_parent\"><img src=\"https://colab.research.google.com/assets/colab-badge.svg\" alt=\"Open In Colab\"/></a>"
      ]
    },
    {
      "cell_type": "code",
      "metadata": {
        "id": "PUNeUN_1JbAQ",
        "cellView": "form"
      },
      "source": [
        "#@title Kaggle API\n",
        "username = str(input(\"username: \"))\n",
        "key = str(input(\"key: \"))\n",
        "\n",
        "f = open(\"kaggle.json\", \"w\")\n",
        "f.write('{\"username\":\"'+username+'\",\"key\":\"'+key+'\"}')\n",
        "f.close()\n",
        "\n",
        "!mkdir -p ~/.kaggle\n",
        "!cp kaggle.json ~/.kaggle/\n",
        "!kaggle datasets download -d hernan4444/anime-recommendation-database-2020\n",
        "\n",
        "import os, re\n",
        "from zipfile import ZipFile\n",
        "\n",
        "with ZipFile('/content/anime-recommendation-database-2020.zip', 'r') as zipObj:\n",
        "   zipObj.extractall()\n",
        "\n",
        "def purge(dir, pattern):\n",
        "    for f in os.listdir(dir):\n",
        "        if pattern in f:\n",
        "            os.remove(os.path.join(dir, f))\n",
        "\n",
        "purge(\"/content/\", \".zip\")\n",
        "purge(\"/content/\", \".json\")"
      ],
      "execution_count": 1,
      "outputs": []
    },
    {
      "cell_type": "code",
      "metadata": {
        "id": "knCcMBuxBqIq"
      },
      "source": [
        "import pandas as pd\n",
        "import numpy as np\n",
        "import tensorflow as tf"
      ],
      "execution_count": 1,
      "outputs": []
    },
    {
      "cell_type": "markdown",
      "metadata": {
        "id": "DMWiDA25J2ws"
      },
      "source": [
        "# Data Preprocessing"
      ]
    },
    {
      "cell_type": "code",
      "metadata": {
        "id": "eyy-fObFKWIh"
      },
      "source": [
        "ratings = pd.read_csv(\"/content/animelist.csv\")"
      ],
      "execution_count": 2,
      "outputs": []
    },
    {
      "cell_type": "code",
      "metadata": {
        "id": "cDtMSZYSD2E9",
        "colab": {
          "base_uri": "https://localhost:8080/",
          "height": 204
        },
        "outputId": "e5b17b1f-3bcc-4dcb-ff72-f1207da92be6"
      },
      "source": [
        "ratings.head(5)"
      ],
      "execution_count": 3,
      "outputs": [
        {
          "output_type": "execute_result",
          "data": {
            "text/html": [
              "<div>\n",
              "<style scoped>\n",
              "    .dataframe tbody tr th:only-of-type {\n",
              "        vertical-align: middle;\n",
              "    }\n",
              "\n",
              "    .dataframe tbody tr th {\n",
              "        vertical-align: top;\n",
              "    }\n",
              "\n",
              "    .dataframe thead th {\n",
              "        text-align: right;\n",
              "    }\n",
              "</style>\n",
              "<table border=\"1\" class=\"dataframe\">\n",
              "  <thead>\n",
              "    <tr style=\"text-align: right;\">\n",
              "      <th></th>\n",
              "      <th>user_id</th>\n",
              "      <th>anime_id</th>\n",
              "      <th>rating</th>\n",
              "      <th>watching_status</th>\n",
              "      <th>watched_episodes</th>\n",
              "    </tr>\n",
              "  </thead>\n",
              "  <tbody>\n",
              "    <tr>\n",
              "      <th>0</th>\n",
              "      <td>0</td>\n",
              "      <td>67</td>\n",
              "      <td>9</td>\n",
              "      <td>1</td>\n",
              "      <td>1</td>\n",
              "    </tr>\n",
              "    <tr>\n",
              "      <th>1</th>\n",
              "      <td>0</td>\n",
              "      <td>6702</td>\n",
              "      <td>7</td>\n",
              "      <td>1</td>\n",
              "      <td>4</td>\n",
              "    </tr>\n",
              "    <tr>\n",
              "      <th>2</th>\n",
              "      <td>0</td>\n",
              "      <td>242</td>\n",
              "      <td>10</td>\n",
              "      <td>1</td>\n",
              "      <td>4</td>\n",
              "    </tr>\n",
              "    <tr>\n",
              "      <th>3</th>\n",
              "      <td>0</td>\n",
              "      <td>4898</td>\n",
              "      <td>0</td>\n",
              "      <td>1</td>\n",
              "      <td>1</td>\n",
              "    </tr>\n",
              "    <tr>\n",
              "      <th>4</th>\n",
              "      <td>0</td>\n",
              "      <td>21</td>\n",
              "      <td>10</td>\n",
              "      <td>1</td>\n",
              "      <td>0</td>\n",
              "    </tr>\n",
              "  </tbody>\n",
              "</table>\n",
              "</div>"
            ],
            "text/plain": [
              "   user_id  anime_id  rating  watching_status  watched_episodes\n",
              "0        0        67       9                1                 1\n",
              "1        0      6702       7                1                 4\n",
              "2        0       242      10                1                 4\n",
              "3        0      4898       0                1                 1\n",
              "4        0        21      10                1                 0"
            ]
          },
          "metadata": {},
          "execution_count": 3
        }
      ]
    },
    {
      "cell_type": "code",
      "metadata": {
        "colab": {
          "base_uri": "https://localhost:8080/"
        },
        "id": "OddKB3oyOOHL",
        "outputId": "2d8d9a24-ca51-4d59-fee8-0d030a6acc69"
      },
      "source": [
        "ratings[\"rating\"].value_counts()"
      ],
      "execution_count": 4,
      "outputs": [
        {
          "output_type": "execute_result",
          "data": {
            "text/plain": [
              "0     46827035\n",
              "8     15422150\n",
              "7     14244633\n",
              "9     10235934\n",
              "6      7543377\n",
              "10     7144392\n",
              "5      4029645\n",
              "4      1845854\n",
              "3       905700\n",
              "2       545339\n",
              "1       480688\n",
              "Name: rating, dtype: int64"
            ]
          },
          "metadata": {},
          "execution_count": 4
        }
      ]
    },
    {
      "cell_type": "markdown",
      "metadata": {
        "id": "6PN9jN7WLVLs"
      },
      "source": [
        "In the dataset, if a person hasn't left a rating to an anime, it was marked as a zero. Let's remove the zeros, as they will just introduce noise later on. Might as well remove the `watched_episodes`."
      ]
    },
    {
      "cell_type": "code",
      "metadata": {
        "id": "2rfk98wcLJT_"
      },
      "source": [
        "ratings = ratings[ratings[\"rating\"] > 0]\n",
        "ratings = ratings.drop(columns = [\"watched_episodes\"])"
      ],
      "execution_count": 5,
      "outputs": []
    },
    {
      "cell_type": "code",
      "metadata": {
        "colab": {
          "base_uri": "https://localhost:8080/"
        },
        "id": "Z6O_FhTkPIv-",
        "outputId": "7beb7c4b-ef8c-46c8-d060-788ed11c7331"
      },
      "source": [
        "num_users = ratings[\"user_id\"].nunique()\n",
        "num_anime = ratings[\"anime_id\"].nunique()\n",
        "\n",
        "print(f\"There are a total of {num_users} users found.\")\n",
        "print(f\"There are a total of {num_anime} anime found.\")\n",
        "\n",
        "print(\"Max user id:\", ratings[\"user_id\"].max())\n",
        "print(\"Max anime id:\", ratings[\"anime_id\"].max())"
      ],
      "execution_count": 6,
      "outputs": [
        {
          "output_type": "stream",
          "name": "stdout",
          "text": [
            "There are a total of 313670 users found.\n",
            "There are a total of 17172 anime found.\n",
            "Max user id: 353404\n",
            "Max anime id: 48456\n"
          ]
        }
      ]
    },
    {
      "cell_type": "code",
      "metadata": {
        "id": "ldNeDiKFZHo7"
      },
      "source": [
        "def transform(df):\n",
        "    df.loc[df[\"watching_status\"] != 4, [\"watching_status\"]] = 1  # Not Dropped\n",
        "    df.loc[df[\"watching_status\"] == 4, [\"watching_status\"]] = 0  # Dropped\n",
        "\n",
        "    df.rename(columns = {'watching_status': 'interaction'}, inplace = True)"
      ],
      "execution_count": 7,
      "outputs": []
    },
    {
      "cell_type": "code",
      "metadata": {
        "id": "RKPbskD7ZRmA"
      },
      "source": [
        "transform(ratings)"
      ],
      "execution_count": 8,
      "outputs": []
    },
    {
      "cell_type": "code",
      "metadata": {
        "colab": {
          "base_uri": "https://localhost:8080/",
          "height": 204
        },
        "id": "hqMLhFwEZV9c",
        "outputId": "9daa13e7-1517-490b-e118-eb2b141cf394"
      },
      "source": [
        "ratings.head()"
      ],
      "execution_count": 9,
      "outputs": [
        {
          "output_type": "execute_result",
          "data": {
            "text/html": [
              "<div>\n",
              "<style scoped>\n",
              "    .dataframe tbody tr th:only-of-type {\n",
              "        vertical-align: middle;\n",
              "    }\n",
              "\n",
              "    .dataframe tbody tr th {\n",
              "        vertical-align: top;\n",
              "    }\n",
              "\n",
              "    .dataframe thead th {\n",
              "        text-align: right;\n",
              "    }\n",
              "</style>\n",
              "<table border=\"1\" class=\"dataframe\">\n",
              "  <thead>\n",
              "    <tr style=\"text-align: right;\">\n",
              "      <th></th>\n",
              "      <th>user_id</th>\n",
              "      <th>anime_id</th>\n",
              "      <th>rating</th>\n",
              "      <th>interaction</th>\n",
              "    </tr>\n",
              "  </thead>\n",
              "  <tbody>\n",
              "    <tr>\n",
              "      <th>0</th>\n",
              "      <td>0</td>\n",
              "      <td>67</td>\n",
              "      <td>9</td>\n",
              "      <td>1</td>\n",
              "    </tr>\n",
              "    <tr>\n",
              "      <th>1</th>\n",
              "      <td>0</td>\n",
              "      <td>6702</td>\n",
              "      <td>7</td>\n",
              "      <td>1</td>\n",
              "    </tr>\n",
              "    <tr>\n",
              "      <th>2</th>\n",
              "      <td>0</td>\n",
              "      <td>242</td>\n",
              "      <td>10</td>\n",
              "      <td>1</td>\n",
              "    </tr>\n",
              "    <tr>\n",
              "      <th>4</th>\n",
              "      <td>0</td>\n",
              "      <td>21</td>\n",
              "      <td>10</td>\n",
              "      <td>1</td>\n",
              "    </tr>\n",
              "    <tr>\n",
              "      <th>5</th>\n",
              "      <td>0</td>\n",
              "      <td>24</td>\n",
              "      <td>9</td>\n",
              "      <td>1</td>\n",
              "    </tr>\n",
              "  </tbody>\n",
              "</table>\n",
              "</div>"
            ],
            "text/plain": [
              "   user_id  anime_id  rating  interaction\n",
              "0        0        67       9            1\n",
              "1        0      6702       7            1\n",
              "2        0       242      10            1\n",
              "4        0        21      10            1\n",
              "5        0        24       9            1"
            ]
          },
          "metadata": {},
          "execution_count": 9
        }
      ]
    },
    {
      "cell_type": "markdown",
      "metadata": {
        "id": "JFr1nQ7pK_4D"
      },
      "source": [
        "If we take a look at the anime and user ids, we can notice that some values there are missing. Let's make a two helper functions, for easy conversion between dataset ids and embedding ids."
      ]
    },
    {
      "cell_type": "code",
      "metadata": {
        "id": "fdrHdPV3Ptql"
      },
      "source": [
        "embId2user = sorted(ratings[\"user_id\"].unique())\n",
        "embId2anime = sorted(ratings[\"anime_id\"].unique())"
      ],
      "execution_count": 10,
      "outputs": []
    },
    {
      "cell_type": "code",
      "metadata": {
        "id": "kJB-XaGCQysw"
      },
      "source": [
        "user2embId = {v: k for k, v in enumerate(embId2user)}\n",
        "anime2embId = {v: k for k, v in enumerate(embId2anime)}"
      ],
      "execution_count": 11,
      "outputs": []
    },
    {
      "cell_type": "markdown",
      "metadata": {
        "id": "l15b5d46MbO8"
      },
      "source": [
        "Now, let's make the dataset. It will look like a quadruples of `(user_id, anime_embId, rating, interaction)`. We'll make 3 sets: `train`, `test` and `val`."
      ]
    },
    {
      "cell_type": "code",
      "metadata": {
        "id": "xxPODUGFMflP"
      },
      "source": [
        "np.random.seed(seed = 42)\n",
        "\n",
        "def makeDataSet(df, split=0.95):\n",
        "    n = df.to_numpy()\n",
        "    \n",
        "    n = np.random.permutation(n)\n",
        "\n",
        "    x = n[:, :2]\n",
        "    y = n[:, 2:]\n",
        "\n",
        "    for i in range(x.shape[0]):\n",
        "        x[i][0] = user2embId[x[i][0]]\n",
        "        x[i][1] = anime2embId[x[i][1]]\n",
        "\n",
        "    s1 = int(split * n.shape[0])\n",
        "    s2 = s1 + int((1 - split) * n.shape[0] / 10)\n",
        "    \n",
        "    return (x[:s1], y[:s1], x[s1:s2], y[s1:s2], x[s2:], y[s2:])"
      ],
      "execution_count": 12,
      "outputs": []
    },
    {
      "cell_type": "code",
      "metadata": {
        "id": "302P1G-FSQw1"
      },
      "source": [
        "x_train, y_train, x_test, y_test, x_val, y_val = makeDataSet(ratings)"
      ],
      "execution_count": 13,
      "outputs": []
    },
    {
      "cell_type": "code",
      "metadata": {
        "colab": {
          "base_uri": "https://localhost:8080/"
        },
        "id": "HGUrVu_Rkgtu",
        "outputId": "35020df5-3e43-4818-df87-553cf63608ae"
      },
      "source": [
        "y_train[:, 1].mean()"
      ],
      "execution_count": 14,
      "outputs": [
        {
          "output_type": "execute_result",
          "data": {
            "text/plain": [
              "0.968792715171437"
            ]
          },
          "metadata": {},
          "execution_count": 14
        }
      ]
    },
    {
      "cell_type": "markdown",
      "metadata": {
        "id": "vpbNLzFSceej"
      },
      "source": [
        "# Models"
      ]
    },
    {
      "cell_type": "code",
      "metadata": {
        "colab": {
          "base_uri": "https://localhost:8080/"
        },
        "id": "sOwjbc59J1Zk",
        "outputId": "e958d40f-4bea-4fef-fe76-65fffc13b79e"
      },
      "source": [
        "print(\"Num GPUs Available: \", len(tf.config.list_physical_devices('GPU')))"
      ],
      "execution_count": 15,
      "outputs": [
        {
          "output_type": "stream",
          "name": "stdout",
          "text": [
            "Num GPUs Available:  1\n"
          ]
        }
      ]
    },
    {
      "cell_type": "markdown",
      "metadata": {
        "id": "pAwYHMLee3hm"
      },
      "source": [
        "## Neural Network"
      ]
    },
    {
      "cell_type": "code",
      "metadata": {
        "id": "x2TEgnHvYjM6"
      },
      "source": [
        "class HybridNeuralNetworkModel(tf.keras.Model):\n",
        "    def __init__(self, num_users, num_items, embedding_dim):\n",
        "        super(HybridNeuralNetworkModel, self).__init__()\n",
        "        \n",
        "        self.embedding_dim = embedding_dim\n",
        "        \n",
        "        self.user_embeddings = tf.keras.layers.Embedding(num_users, embedding_dim)\n",
        "        self.item_embeddings = tf.keras.layers.Embedding(num_items, embedding_dim)\n",
        "\n",
        "        self.dense1 = tf.keras.layers.Dense(64, activation='relu')\n",
        "        self.dense2 = tf.keras.layers.Dense(1, activation='relu')\n",
        "        \n",
        "        self.dense3 = tf.keras.layers.Dense(1, activation='sigmoid')\n",
        "\n",
        "        self.concat = tf.keras.layers.Concatenate()\n",
        "        self.dropout = tf.keras.layers.Dropout(.5)\n",
        "\n",
        "    def call(self, inputs, training = False):\n",
        "        user_ids = inputs[:, 0]\n",
        "        item_ids = inputs[:, 1]\n",
        "\n",
        "        user_embedding = self.user_embeddings(user_ids)\n",
        "        item_embedding = self.item_embeddings(item_ids)\n",
        "\n",
        "        if training:\n",
        "            user_embedding = self.dropout(user_embedding, training = training)\n",
        "            item_embedding = self.dropout(item_embedding, training = training)\n",
        "\n",
        "        user_embedding = tf.reshape(user_embedding, [-1, self.embedding_dim])\n",
        "        item_embedding = tf.reshape(item_embedding, [-1, self.embedding_dim])\n",
        "\n",
        "        conc = self.concat([user_embedding, item_embedding])\n",
        "        x = self.dense1(conc)\n",
        "        \n",
        "        x1 = self.dense2(x)\n",
        "        x2 = self.dense3(x)\n",
        "\n",
        "        return x1, x2"
      ],
      "execution_count": 21,
      "outputs": []
    },
    {
      "cell_type": "code",
      "metadata": {
        "id": "7Z3Rx76ydbG-"
      },
      "source": [
        "hnn_model = HybridNeuralNetworkModel(num_users = num_users, \n",
        "                                     num_items = num_anime, \n",
        "                                     embedding_dim = 64)\n",
        "\n",
        "hnn_model.compile(\n",
        "    optimizer = tf.keras.optimizers.Adam(),\n",
        "    loss = {\n",
        "        \"output_1\": tf.keras.losses.MeanSquaredError(),\n",
        "        \"output_2\": tf.keras.losses.BinaryCrossentropy()\n",
        "    },\n",
        "    loss_weights = {\n",
        "        \"output_1\": 1.0,\n",
        "        \"output_2\": 5.0\n",
        "    },\n",
        "    metrics = [\n",
        "        tf.keras.metrics.RootMeanSquaredError(\"RMSE\")\n",
        "    ],\n",
        "    run_eagerly = True\n",
        ")"
      ],
      "execution_count": 22,
      "outputs": []
    },
    {
      "cell_type": "code",
      "metadata": {
        "colab": {
          "base_uri": "https://localhost:8080/"
        },
        "id": "9PDFoTbcdkoK",
        "outputId": "d02e2053-d52f-4bd3-ff09-59cd65fb19db"
      },
      "source": [
        "callback = tf.keras.callbacks.EarlyStopping(monitor = 'loss', patience = 3)\n",
        "\n",
        "history = hnn_model.fit(x = x_train, \n",
        "                        y = {\n",
        "                            \"output_1\": y_train[:, 0],\n",
        "                            \"output_2\": y_train[:, 1]\n",
        "                        },\n",
        "                        batch_size = 64, \n",
        "                        epochs = 100, \n",
        "                        steps_per_epoch = 1000,\n",
        "                        callbacks = [callback],\n",
        "                        # validation_data = (x_test, y_test),\n",
        "                        # validation_steps = 10,\n",
        "                        # validation_batch_size = 64\n",
        "                    )"
      ],
      "execution_count": 23,
      "outputs": [
        {
          "output_type": "stream",
          "name": "stdout",
          "text": [
            "Epoch 1/100\n",
            "1000/1000 [==============================] - 38s 36ms/step - loss: 10.9900 - output_1_loss: 10.0567 - output_2_loss: 0.1867 - output_1_RMSE: 3.1712 - output_2_RMSE: 0.2163\n",
            "Epoch 2/100\n",
            "1000/1000 [==============================] - 35s 35ms/step - loss: 3.3543 - output_1_loss: 2.6759 - output_2_loss: 0.1357 - output_1_RMSE: 1.6358 - output_2_RMSE: 0.1731\n",
            "Epoch 3/100\n",
            "1000/1000 [==============================] - 36s 36ms/step - loss: 3.1916 - output_1_loss: 2.5294 - output_2_loss: 0.1324 - output_1_RMSE: 1.5904 - output_2_RMSE: 0.1711\n",
            "Epoch 4/100\n",
            "1000/1000 [==============================] - 36s 36ms/step - loss: 3.1645 - output_1_loss: 2.5061 - output_2_loss: 0.1317 - output_1_RMSE: 1.5831 - output_2_RMSE: 0.1714\n",
            "Epoch 5/100\n",
            "1000/1000 [==============================] - 36s 36ms/step - loss: 3.1044 - output_1_loss: 2.4361 - output_2_loss: 0.1337 - output_1_RMSE: 1.5608 - output_2_RMSE: 0.1732\n",
            "Epoch 6/100\n",
            "1000/1000 [==============================] - 36s 36ms/step - loss: 3.0168 - output_1_loss: 2.3487 - output_2_loss: 0.1336 - output_1_RMSE: 1.5325 - output_2_RMSE: 0.1740\n",
            "Epoch 7/100\n",
            "1000/1000 [==============================] - 36s 36ms/step - loss: 2.9990 - output_1_loss: 2.3396 - output_2_loss: 0.1319 - output_1_RMSE: 1.5296 - output_2_RMSE: 0.1727\n",
            "Epoch 8/100\n",
            "1000/1000 [==============================] - 36s 36ms/step - loss: 2.9388 - output_1_loss: 2.3067 - output_2_loss: 0.1264 - output_1_RMSE: 1.5188 - output_2_RMSE: 0.1692\n",
            "Epoch 9/100\n",
            "1000/1000 [==============================] - 36s 36ms/step - loss: 2.9153 - output_1_loss: 2.2461 - output_2_loss: 0.1338 - output_1_RMSE: 1.4987 - output_2_RMSE: 0.1759\n",
            "Epoch 10/100\n",
            "1000/1000 [==============================] - 36s 36ms/step - loss: 2.8955 - output_1_loss: 2.2460 - output_2_loss: 0.1299 - output_1_RMSE: 1.4987 - output_2_RMSE: 0.1728\n",
            "Epoch 11/100\n",
            "1000/1000 [==============================] - 36s 36ms/step - loss: 2.8735 - output_1_loss: 2.2290 - output_2_loss: 0.1289 - output_1_RMSE: 1.4930 - output_2_RMSE: 0.1727\n",
            "Epoch 12/100\n",
            "1000/1000 [==============================] - 37s 37ms/step - loss: 2.8314 - output_1_loss: 2.2091 - output_2_loss: 0.1245 - output_1_RMSE: 1.4863 - output_2_RMSE: 0.1701\n",
            "Epoch 13/100\n",
            "1000/1000 [==============================] - 37s 37ms/step - loss: 2.8284 - output_1_loss: 2.1859 - output_2_loss: 0.1285 - output_1_RMSE: 1.4785 - output_2_RMSE: 0.1730\n",
            "Epoch 14/100\n",
            "1000/1000 [==============================] - 36s 36ms/step - loss: 2.7603 - output_1_loss: 2.1455 - output_2_loss: 0.1230 - output_1_RMSE: 1.4648 - output_2_RMSE: 0.1686\n",
            "Epoch 15/100\n",
            "1000/1000 [==============================] - 36s 36ms/step - loss: 2.7632 - output_1_loss: 2.1527 - output_2_loss: 0.1221 - output_1_RMSE: 1.4672 - output_2_RMSE: 0.1683\n",
            "Epoch 16/100\n",
            "1000/1000 [==============================] - 36s 36ms/step - loss: 2.7920 - output_1_loss: 2.1572 - output_2_loss: 0.1270 - output_1_RMSE: 1.4687 - output_2_RMSE: 0.1719\n",
            "Epoch 17/100\n",
            "1000/1000 [==============================] - 36s 36ms/step - loss: 2.7320 - output_1_loss: 2.1164 - output_2_loss: 0.1231 - output_1_RMSE: 1.4548 - output_2_RMSE: 0.1691\n",
            "Epoch 18/100\n",
            "1000/1000 [==============================] - 36s 36ms/step - loss: 2.7102 - output_1_loss: 2.1122 - output_2_loss: 0.1196 - output_1_RMSE: 1.4533 - output_2_RMSE: 0.1672\n",
            "Epoch 19/100\n",
            "1000/1000 [==============================] - 35s 35ms/step - loss: 2.7006 - output_1_loss: 2.0985 - output_2_loss: 0.1204 - output_1_RMSE: 1.4486 - output_2_RMSE: 0.1673\n",
            "Epoch 20/100\n",
            "1000/1000 [==============================] - 36s 36ms/step - loss: 2.7597 - output_1_loss: 2.1332 - output_2_loss: 0.1253 - output_1_RMSE: 1.4605 - output_2_RMSE: 0.1720\n",
            "Epoch 21/100\n",
            "1000/1000 [==============================] - 36s 36ms/step - loss: 2.6863 - output_1_loss: 2.0657 - output_2_loss: 0.1241 - output_1_RMSE: 1.4372 - output_2_RMSE: 0.1706\n",
            "Epoch 22/100\n",
            "1000/1000 [==============================] - 36s 36ms/step - loss: 2.7054 - output_1_loss: 2.1015 - output_2_loss: 0.1208 - output_1_RMSE: 1.4497 - output_2_RMSE: 0.1685\n",
            "Epoch 23/100\n",
            "1000/1000 [==============================] - 37s 37ms/step - loss: 2.6660 - output_1_loss: 2.0541 - output_2_loss: 0.1224 - output_1_RMSE: 1.4332 - output_2_RMSE: 0.1699\n",
            "Epoch 24/100\n",
            "1000/1000 [==============================] - 36s 36ms/step - loss: 2.6683 - output_1_loss: 2.0591 - output_2_loss: 0.1218 - output_1_RMSE: 1.4349 - output_2_RMSE: 0.1697\n",
            "Epoch 25/100\n",
            "1000/1000 [==============================] - 36s 36ms/step - loss: 2.6555 - output_1_loss: 2.0585 - output_2_loss: 0.1194 - output_1_RMSE: 1.4348 - output_2_RMSE: 0.1672\n",
            "Epoch 26/100\n",
            "1000/1000 [==============================] - 36s 36ms/step - loss: 2.6604 - output_1_loss: 2.0652 - output_2_loss: 0.1190 - output_1_RMSE: 1.4371 - output_2_RMSE: 0.1668\n",
            "Epoch 27/100\n",
            "1000/1000 [==============================] - 36s 36ms/step - loss: 2.6275 - output_1_loss: 2.0289 - output_2_loss: 0.1197 - output_1_RMSE: 1.4244 - output_2_RMSE: 0.1681\n",
            "Epoch 28/100\n",
            "1000/1000 [==============================] - 36s 36ms/step - loss: 2.6462 - output_1_loss: 2.0417 - output_2_loss: 0.1209 - output_1_RMSE: 1.4289 - output_2_RMSE: 0.1692\n",
            "Epoch 29/100\n",
            "1000/1000 [==============================] - 36s 36ms/step - loss: 2.6213 - output_1_loss: 2.0099 - output_2_loss: 0.1223 - output_1_RMSE: 1.4177 - output_2_RMSE: 0.1701\n",
            "Epoch 30/100\n",
            "1000/1000 [==============================] - 36s 36ms/step - loss: 2.5954 - output_1_loss: 1.9882 - output_2_loss: 0.1214 - output_1_RMSE: 1.4101 - output_2_RMSE: 0.1693\n",
            "Epoch 31/100\n",
            "1000/1000 [==============================] - 36s 36ms/step - loss: 2.5712 - output_1_loss: 1.9866 - output_2_loss: 0.1169 - output_1_RMSE: 1.4095 - output_2_RMSE: 0.1658\n",
            "Epoch 32/100\n",
            "1000/1000 [==============================] - 36s 36ms/step - loss: 2.6022 - output_1_loss: 2.0118 - output_2_loss: 0.1181 - output_1_RMSE: 1.4184 - output_2_RMSE: 0.1671\n",
            "Epoch 33/100\n",
            "1000/1000 [==============================] - 36s 36ms/step - loss: 2.6036 - output_1_loss: 2.0209 - output_2_loss: 0.1165 - output_1_RMSE: 1.4216 - output_2_RMSE: 0.1660\n",
            "Epoch 34/100\n",
            "1000/1000 [==============================] - 36s 36ms/step - loss: 2.5814 - output_1_loss: 1.9922 - output_2_loss: 0.1178 - output_1_RMSE: 1.4114 - output_2_RMSE: 0.1663\n"
          ]
        }
      ]
    },
    {
      "cell_type": "code",
      "metadata": {
        "colab": {
          "base_uri": "https://localhost:8080/"
        },
        "id": "TvmxOXrpnizo",
        "outputId": "14c81e2b-8baa-4600-f7f0-9104006e9093"
      },
      "source": [
        "nn_model.predict([[1, 1]])"
      ],
      "execution_count": 26,
      "outputs": [
        {
          "output_type": "execute_result",
          "data": {
            "text/plain": [
              "(array([[8.27286]], dtype=float32), array([[0.9951828]], dtype=float32))"
            ]
          },
          "metadata": {},
          "execution_count": 26
        }
      ]
    },
    {
      "cell_type": "code",
      "metadata": {
        "id": "MHZXZe9agMJz"
      },
      "source": [
        "# hnn_model.save_weights(\n",
        "#     \"/content/drive/MyDrive/AnimeRecommendations/Hybrid/NeuralNetworkModel/model\", overwrite=True\n",
        "# )"
      ],
      "execution_count": 25,
      "outputs": []
    },
    {
      "cell_type": "code",
      "metadata": {
        "colab": {
          "base_uri": "https://localhost:8080/"
        },
        "id": "038DIWBigTxo",
        "outputId": "26061914-b9da-460c-e623-035ba6eacb1b"
      },
      "source": [
        "hnn_model.load_weights(\"/content/drive/MyDrive/AnimeRecommendations/Hybrid/NeuralNetworkModel/model\")"
      ],
      "execution_count": null,
      "outputs": [
        {
          "output_type": "execute_result",
          "data": {
            "text/plain": [
              "<tensorflow.python.training.tracking.util.CheckpointLoadStatus at 0x7f8347e4ebd0>"
            ]
          },
          "metadata": {},
          "execution_count": 18
        }
      ]
    },
    {
      "cell_type": "markdown",
      "metadata": {
        "id": "DUdCmooRYjq4"
      },
      "source": [
        "## Comparing the models"
      ]
    },
    {
      "cell_type": "code",
      "metadata": {
        "colab": {
          "base_uri": "https://localhost:8080/"
        },
        "id": "PTxFvxrbYna3",
        "outputId": "94a30262-3270-4f7b-b876-ffe712f42c20"
      },
      "source": [
        "hnn_model.evaluate(x = x_val, y = [y_val[:, 0], y_val[:, 1]])"
      ],
      "execution_count": 27,
      "outputs": [
        {
          "output_type": "stream",
          "name": "stdout",
          "text": [
            "87747/87747 [==============================] - 1101s 13ms/step - loss: 2.5118 - output_1_loss: 1.9339 - output_2_loss: 0.1156 - output_1_RMSE: 1.3906 - output_2_RMSE: 0.1664\n"
          ]
        },
        {
          "output_type": "execute_result",
          "data": {
            "text/plain": [
              "[2.5118048191070557,\n",
              " 1.9338595867156982,\n",
              " 0.11558714509010315,\n",
              " 1.3906327486038208,\n",
              " 0.16644959151744843]"
            ]
          },
          "metadata": {},
          "execution_count": 27
        }
      ]
    }
  ]
}