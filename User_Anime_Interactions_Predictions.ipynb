{
  "nbformat": 4,
  "nbformat_minor": 0,
  "metadata": {
    "accelerator": "GPU",
    "colab": {
      "name": "User-Anime Interactions Predictions.ipynb",
      "provenance": [],
      "collapsed_sections": [],
      "machine_shape": "hm",
      "mount_file_id": "1SNhIRm8dfz7MP4I4Ng30iT1xhyncDZqK",
      "authorship_tag": "ABX9TyPNFmyy+XHEXukTv/iwTTiC"
    },
    "kernelspec": {
      "display_name": "Python 3",
      "name": "python3"
    },
    "language_info": {
      "name": "python"
    }
  },
  "cells": [
    {
      "cell_type": "code",
      "metadata": {
        "cellView": "form",
        "id": "PUNeUN_1JbAQ"
      },
      "source": [
        "#@title Kaggle API\n",
        "\n",
        "from IPython.display import clear_output\n",
        "\n",
        "username = str(input(\"username: \"))\n",
        "key = str(input(\"key: \"))\n",
        "\n",
        "clear_output()\n",
        "\n",
        "f = open(\"kaggle.json\", \"w\")\n",
        "f.write('{\"username\":\"'+username+'\",\"key\":\"'+key+'\"}')\n",
        "f.close()\n",
        "\n",
        "!mkdir -p ~/.kaggle\n",
        "!cp kaggle.json ~/.kaggle/\n",
        "!kaggle datasets download -d hernan4444/anime-recommendation-database-2020\n",
        "\n",
        "import os, re\n",
        "from zipfile import ZipFile\n",
        "\n",
        "with ZipFile('/content/anime-recommendation-database-2020.zip', 'r') as zipObj:\n",
        "   zipObj.extractall()\n",
        "\n",
        "def purge(dir, pattern):\n",
        "    for f in os.listdir(dir):\n",
        "        if pattern in f:\n",
        "            os.remove(os.path.join(dir, f))\n",
        "\n",
        "purge(\"/content/\", \".zip\")\n",
        "purge(\"/content/\", \".json\")"
      ],
      "execution_count": null,
      "outputs": []
    },
    {
      "cell_type": "code",
      "metadata": {
        "id": "knCcMBuxBqIq"
      },
      "source": [
        "import pandas as pd\n",
        "import numpy as np\n",
        "import tensorflow as tf"
      ],
      "execution_count": null,
      "outputs": []
    },
    {
      "cell_type": "markdown",
      "metadata": {
        "id": "DMWiDA25J2ws"
      },
      "source": [
        "# Data Preprocessing"
      ]
    },
    {
      "cell_type": "code",
      "metadata": {
        "id": "eyy-fObFKWIh"
      },
      "source": [
        "anime = pd.read_csv(\"/content/anime.csv\")\n",
        "interactions = pd.read_csv(\"/content/animelist.csv\")"
      ],
      "execution_count": null,
      "outputs": []
    },
    {
      "cell_type": "code",
      "metadata": {
        "colab": {
          "base_uri": "https://localhost:8080/",
          "height": 204
        },
        "id": "cDtMSZYSD2E9",
        "outputId": "512e9808-49d9-42d3-fbbd-f549d0b3c45d"
      },
      "source": [
        "interactions = interactions.drop(columns = [\"rating\", \"watched_episodes\"])\n",
        "interactions.head(5)"
      ],
      "execution_count": null,
      "outputs": [
        {
          "data": {
            "text/html": [
              "<div>\n",
              "<style scoped>\n",
              "    .dataframe tbody tr th:only-of-type {\n",
              "        vertical-align: middle;\n",
              "    }\n",
              "\n",
              "    .dataframe tbody tr th {\n",
              "        vertical-align: top;\n",
              "    }\n",
              "\n",
              "    .dataframe thead th {\n",
              "        text-align: right;\n",
              "    }\n",
              "</style>\n",
              "<table border=\"1\" class=\"dataframe\">\n",
              "  <thead>\n",
              "    <tr style=\"text-align: right;\">\n",
              "      <th></th>\n",
              "      <th>user_id</th>\n",
              "      <th>anime_id</th>\n",
              "      <th>watching_status</th>\n",
              "    </tr>\n",
              "  </thead>\n",
              "  <tbody>\n",
              "    <tr>\n",
              "      <th>0</th>\n",
              "      <td>0</td>\n",
              "      <td>67</td>\n",
              "      <td>1</td>\n",
              "    </tr>\n",
              "    <tr>\n",
              "      <th>1</th>\n",
              "      <td>0</td>\n",
              "      <td>6702</td>\n",
              "      <td>1</td>\n",
              "    </tr>\n",
              "    <tr>\n",
              "      <th>2</th>\n",
              "      <td>0</td>\n",
              "      <td>242</td>\n",
              "      <td>1</td>\n",
              "    </tr>\n",
              "    <tr>\n",
              "      <th>3</th>\n",
              "      <td>0</td>\n",
              "      <td>4898</td>\n",
              "      <td>1</td>\n",
              "    </tr>\n",
              "    <tr>\n",
              "      <th>4</th>\n",
              "      <td>0</td>\n",
              "      <td>21</td>\n",
              "      <td>1</td>\n",
              "    </tr>\n",
              "  </tbody>\n",
              "</table>\n",
              "</div>"
            ],
            "text/plain": [
              "   user_id  anime_id  watching_status\n",
              "0        0        67                1\n",
              "1        0      6702                1\n",
              "2        0       242                1\n",
              "3        0      4898                1\n",
              "4        0        21                1"
            ]
          },
          "execution_count": 4,
          "metadata": {},
          "output_type": "execute_result"
        }
      ]
    },
    {
      "cell_type": "markdown",
      "metadata": {
        "id": "DwfKyqkV9PqT"
      },
      "source": [
        "Let's add a new feature `interaction`, which will be a 1 if the user had a positive interaction, 0.5 if we don't know, and 0 otherwise. We will model the interaction values using the `watching_status`.\n",
        "\n",
        "```\n",
        "1: Currently Watching\n",
        "2: Completed\n",
        "3: On Hold\n",
        "4: Dropped\n",
        "6: Plan to Watch\n",
        "```\n",
        "\n",
        "First, let's remove incorrect data."
      ]
    },
    {
      "cell_type": "code",
      "metadata": {
        "id": "g-d3gy4y9Pai"
      },
      "source": [
        "interactions = interactions[interactions[\"watching_status\"] >= 1] \n",
        "interactions = interactions[interactions[\"watching_status\"] <= 6]\n",
        "interactions = interactions[interactions[\"watching_status\"] != 5]"
      ],
      "execution_count": null,
      "outputs": []
    },
    {
      "cell_type": "markdown",
      "metadata": {
        "id": "vJmwT1_qC8RF"
      },
      "source": [
        "We'll model interactions using the following function"
      ]
    },
    {
      "cell_type": "code",
      "metadata": {
        "id": "wHSNuuYs-6UE"
      },
      "source": [
        "def transform(df):\n",
        "    df.loc[df[\"watching_status\"] == 1, [\"watching_status\"]] = 0.5\n",
        "    df.loc[df[\"watching_status\"] == 2, [\"watching_status\"]] = 1.0\n",
        "    df.loc[df[\"watching_status\"] == 3, [\"watching_status\"]] = 0.5\n",
        "    df.loc[df[\"watching_status\"] == 4, [\"watching_status\"]] = 0.0\n",
        "    df.loc[df[\"watching_status\"] == 6, [\"watching_status\"]] = 1.0\n",
        "\n",
        "    df.rename(columns = {'watching_status': 'interaction'}, inplace = True)"
      ],
      "execution_count": null,
      "outputs": []
    },
    {
      "cell_type": "code",
      "metadata": {
        "id": "zG4EdTmrOCfj"
      },
      "source": [
        "transform(interactions)"
      ],
      "execution_count": null,
      "outputs": []
    },
    {
      "cell_type": "code",
      "metadata": {
        "colab": {
          "base_uri": "https://localhost:8080/"
        },
        "id": "HOesnn4tCHZy",
        "outputId": "0daebebc-3012-4084-b2ce-f2e04a1685a2"
      },
      "source": [
        "interactions[\"interaction\"].value_counts()"
      ],
      "execution_count": null,
      "outputs": [
        {
          "data": {
            "text/plain": [
              "1.0    96028444\n",
              "0.5     8929172\n",
              "0.0     4266591\n",
              "Name: interaction, dtype: int64"
            ]
          },
          "execution_count": 8,
          "metadata": {},
          "output_type": "execute_result"
        }
      ]
    },
    {
      "cell_type": "code",
      "metadata": {
        "colab": {
          "base_uri": "https://localhost:8080/"
        },
        "id": "Z6O_FhTkPIv-",
        "outputId": "59909647-3a84-40a5-a114-831ebe586831"
      },
      "source": [
        "num_users = interactions[\"user_id\"].nunique()\n",
        "num_anime = interactions[\"anime_id\"].nunique()\n",
        "\n",
        "print(f\"There are a total of {num_users} users found.\")\n",
        "print(f\"There are a total of {num_anime} anime found.\")\n",
        "\n",
        "print(\"Max user id:\", interactions[\"user_id\"].max())\n",
        "print(\"Max anime id:\", interactions[\"anime_id\"].max())"
      ],
      "execution_count": null,
      "outputs": [
        {
          "name": "stdout",
          "output_type": "stream",
          "text": [
            "There are a total of 325770 users found.\n",
            "There are a total of 17562 anime found.\n",
            "Max user id: 353404\n",
            "Max anime id: 48492\n"
          ]
        }
      ]
    },
    {
      "cell_type": "markdown",
      "metadata": {
        "id": "JFr1nQ7pK_4D"
      },
      "source": [
        "If we take a look at the anime and user ids, we can notice that some values there are missing. Let's make a two helper functions, for easy conversion between dataset ids and embedding ids."
      ]
    },
    {
      "cell_type": "code",
      "metadata": {
        "id": "fdrHdPV3Ptql"
      },
      "source": [
        "embId2user = sorted(interactions[\"user_id\"].unique())\n",
        "embId2anime = sorted(interactions[\"anime_id\"].unique())"
      ],
      "execution_count": null,
      "outputs": []
    },
    {
      "cell_type": "code",
      "metadata": {
        "id": "kJB-XaGCQysw"
      },
      "source": [
        "user2embId = {v: k for k, v in enumerate(embId2user)}\n",
        "anime2embId = {v: k for k, v in enumerate(embId2anime)}"
      ],
      "execution_count": null,
      "outputs": []
    },
    {
      "cell_type": "markdown",
      "metadata": {
        "id": "l15b5d46MbO8"
      },
      "source": [
        "Now, let's make the dataset. It will look like a tuples of `(user_id, anime_embId, rating)`. We'll make 3 sets: `train`, `test` and `val`."
      ]
    },
    {
      "cell_type": "code",
      "metadata": {
        "id": "xxPODUGFMflP"
      },
      "source": [
        "np.random.seed(seed = 42)\n",
        "\n",
        "def makeDataSet(df, split=0.95):\n",
        "    n = df.to_numpy()\n",
        "    \n",
        "    n = np.random.permutation(n)[:10000000]\n",
        "\n",
        "    x = n[:, :2]\n",
        "    y = n[:, 2]\n",
        "\n",
        "    for i in range(x.shape[0]):\n",
        "        x[i][0] = user2embId[x[i][0]]\n",
        "        x[i][1] = anime2embId[x[i][1]]\n",
        "\n",
        "    s1 = int(split * n.shape[0])\n",
        "    s2 = s1 + int((1 - split) * n.shape[0] / 10)\n",
        "    \n",
        "    return (x[:s1], y[:s1], x[s1:s2], y[s1:s2], x[s2:], y[s2:])"
      ],
      "execution_count": null,
      "outputs": []
    },
    {
      "cell_type": "code",
      "metadata": {
        "id": "302P1G-FSQw1"
      },
      "source": [
        "x_train, y_train, x_test, y_test, x_val, y_val = makeDataSet(interactions)"
      ],
      "execution_count": null,
      "outputs": []
    },
    {
      "cell_type": "markdown",
      "metadata": {
        "id": "vpbNLzFSceej"
      },
      "source": [
        "# Models"
      ]
    },
    {
      "cell_type": "code",
      "metadata": {
        "colab": {
          "base_uri": "https://localhost:8080/"
        },
        "id": "sOwjbc59J1Zk",
        "outputId": "151d1bd7-093e-47c6-b230-64672e702063"
      },
      "source": [
        "print(\"Num GPUs Available: \", len(tf.config.list_physical_devices('GPU')))"
      ],
      "execution_count": null,
      "outputs": [
        {
          "name": "stdout",
          "output_type": "stream",
          "text": [
            "Num GPUs Available:  1\n"
          ]
        }
      ]
    },
    {
      "cell_type": "markdown",
      "metadata": {
        "id": "3vmn2iticyfh"
      },
      "source": [
        "## Matrix Factorization"
      ]
    },
    {
      "cell_type": "code",
      "metadata": {
        "id": "kYgyxsiAx6lw"
      },
      "source": [
        "class MatrixFactorizationModel(tf.keras.Model):\n",
        "    def __init__(self, num_users, num_items, embedding_dim):\n",
        "        super(MatrixFactorizationModel, self).__init__()\n",
        "        \n",
        "        self.embedding_dim = embedding_dim\n",
        "        \n",
        "        self.user_embeddings = tf.keras.layers.Embedding(num_users, embedding_dim)\n",
        "        self.item_embeddings = tf.keras.layers.Embedding(num_items, embedding_dim)\n",
        "\n",
        "        self.user_biases = tf.keras.layers.Embedding(num_users, 1)\n",
        "        self.item_biases = tf.keras.layers.Embedding(num_items, 1)\n",
        "\n",
        "        self.bias = tf.Variable(tf.zeros([1]))\n",
        "\n",
        "        self.dropout = tf.keras.layers.Dropout(.5)\n",
        "\n",
        "    def call(self, inputs, training = False):\n",
        "        user_ids = inputs[:, 0]\n",
        "        item_ids = inputs[:, 1]\n",
        "\n",
        "        user_embedding = self.user_embeddings(user_ids) + self.user_biases(user_ids)\n",
        "        item_embedding = self.item_embeddings(item_ids) + self.item_biases(item_ids)\n",
        "\n",
        "        if training:\n",
        "            user_embedding = self.dropout(user_embedding, training = training)\n",
        "            item_embedding = self.dropout(item_embedding, training = training)\n",
        "\n",
        "        user_embedding = tf.reshape(user_embedding, [-1, self.embedding_dim])\n",
        "        item_embedding = tf.reshape(item_embedding, [-1, self.embedding_dim])\n",
        "\n",
        "        dot = tf.keras.layers.Dot(axes=1)([user_embedding, item_embedding]) + self.bias\n",
        "\n",
        "        return tf.math.sigmoid(dot)"
      ],
      "execution_count": null,
      "outputs": []
    },
    {
      "cell_type": "code",
      "metadata": {
        "id": "GPVE4ep2GRFk"
      },
      "source": [
        "mf_model = MatrixFactorizationModel(num_users = num_users, \n",
        "                                    num_items = num_anime, \n",
        "                                    embedding_dim = 64)\n",
        "\n",
        "mf_model.compile(\n",
        "    optimizer = tf.keras.optimizers.Adam(),\n",
        "    loss = tf.keras.losses.BinaryCrossentropy(),\n",
        "    metrics = [\n",
        "        tf.keras.metrics.RootMeanSquaredError(\"RMSE\")\n",
        "    ],\n",
        "    run_eagerly = True\n",
        ")"
      ],
      "execution_count": null,
      "outputs": []
    },
    {
      "cell_type": "code",
      "metadata": {
        "colab": {
          "background_save": true,
          "base_uri": "https://localhost:8080/"
        },
        "id": "M9s2ZqTeJWJe",
        "outputId": "a19871e2-5968-4e60-84e6-65424de47375"
      },
      "source": [
        "callback = tf.keras.callbacks.EarlyStopping(monitor = 'loss', patience = 3)\n",
        "\n",
        "history = mf_model.fit(x = x_train, y = y_train, \n",
        "                    batch_size = 64, \n",
        "                    epochs = 100, \n",
        "                    steps_per_epoch = 1000,\n",
        "                    callbacks = [callback],\n",
        "                    # validation_data = (x_test, y_test),\n",
        "                    # validation_steps = 10,\n",
        "                    # validation_batch_size = 64\n",
        "                    )"
      ],
      "execution_count": null,
      "outputs": [
        {
          "name": "stdout",
          "output_type": "stream",
          "text": [
            "Epoch 1/100\n",
            "1000/1000 [==============================] - 35s 34ms/step - loss: 0.5366 - RMSE: 0.3914\n",
            "Epoch 2/100\n",
            "1000/1000 [==============================] - 34s 34ms/step - loss: 0.3650 - RMSE: 0.2801\n",
            "Epoch 3/100\n",
            "1000/1000 [==============================] - 34s 34ms/step - loss: 0.3072 - RMSE: 0.2444\n",
            "Epoch 4/100\n",
            "1000/1000 [==============================] - 34s 34ms/step - loss: 0.2869 - RMSE: 0.2337\n",
            "Epoch 5/100\n",
            "1000/1000 [==============================] - 34s 34ms/step - loss: 0.2747 - RMSE: 0.2272\n",
            "Epoch 6/100\n",
            "1000/1000 [==============================] - 34s 34ms/step - loss: 0.2780 - RMSE: 0.2300\n",
            "Epoch 7/100\n",
            "1000/1000 [==============================] - 35s 35ms/step - loss: 0.2789 - RMSE: 0.2305\n",
            "Epoch 8/100\n",
            "1000/1000 [==============================] - 35s 35ms/step - loss: 0.2811 - RMSE: 0.2309\n"
          ]
        }
      ]
    },
    {
      "cell_type": "code",
      "metadata": {
        "colab": {
          "background_save": true
        },
        "id": "GZe9Oke065gZ"
      },
      "source": [
        "# mf_model.save_weights(\n",
        "#     \"/content/drive/MyDrive/AnimeRecommendations/Interactions/MatrixFactorizationModel/model\", overwrite=True\n",
        "# )"
      ],
      "execution_count": null,
      "outputs": []
    },
    {
      "cell_type": "code",
      "metadata": {
        "colab": {
          "background_save": true,
          "base_uri": "https://localhost:8080/"
        },
        "id": "RbVwQI4-Zq52",
        "outputId": "3a1afb98-db87-42dd-d75b-a8eb44f1c66f"
      },
      "source": [
        "mf_model.load_weights(\"/content/drive/MyDrive/AnimeRecommendations/Interactions/MatrixFactorizationModel/model\")"
      ],
      "execution_count": null,
      "outputs": [
        {
          "data": {
            "text/plain": [
              "<tensorflow.python.training.tracking.util.CheckpointLoadStatus at 0x7f0f504e6dd0>"
            ]
          },
          "execution_count": null,
          "metadata": {},
          "output_type": "execute_result"
        }
      ]
    },
    {
      "cell_type": "markdown",
      "metadata": {
        "id": "pAwYHMLee3hm"
      },
      "source": [
        "## Neural Network"
      ]
    },
    {
      "cell_type": "code",
      "metadata": {
        "id": "x2TEgnHvYjM6"
      },
      "source": [
        "class NeuralNetworkModel(tf.keras.Model):\n",
        "    def __init__(self, num_users, num_items, embedding_dim):\n",
        "        super(NeuralNetworkModel, self).__init__()\n",
        "        \n",
        "        self.embedding_dim = embedding_dim\n",
        "        \n",
        "        self.user_embeddings = tf.keras.layers.Embedding(num_users, embedding_dim)\n",
        "        self.item_embeddings = tf.keras.layers.Embedding(num_items, embedding_dim)\n",
        "\n",
        "        self.dense1 = tf.keras.layers.Dense(64, activation='relu')\n",
        "        self.dense2 = tf.keras.layers.Dense(1, activation='sigmoid')\n",
        "\n",
        "        self.concat = tf.keras.layers.Concatenate()\n",
        "        self.dropout = tf.keras.layers.Dropout(.5)\n",
        "\n",
        "    def call(self, inputs, training = False):\n",
        "        user_ids = inputs[:, 0]\n",
        "        item_ids = inputs[:, 1]\n",
        "\n",
        "        user_embedding = self.user_embeddings(user_ids)\n",
        "        item_embedding = self.item_embeddings(item_ids)\n",
        "\n",
        "        if training:\n",
        "            user_embedding = self.dropout(user_embedding, training = training)\n",
        "            item_embedding = self.dropout(item_embedding, training = training)\n",
        "\n",
        "        user_embedding = tf.reshape(user_embedding, [-1, self.embedding_dim])\n",
        "        item_embedding = tf.reshape(item_embedding, [-1, self.embedding_dim])\n",
        "\n",
        "        x = self.concat([user_embedding, item_embedding])\n",
        "        x = self.dense1(x)\n",
        "        x = self.dense2(x)\n",
        "\n",
        "        return x"
      ],
      "execution_count": null,
      "outputs": []
    },
    {
      "cell_type": "code",
      "metadata": {
        "id": "7Z3Rx76ydbG-"
      },
      "source": [
        "nn_model = NeuralNetworkModel(num_users = num_users, \n",
        "                              num_items = num_anime, \n",
        "                              embedding_dim = 64)\n",
        "\n",
        "nn_model.compile(\n",
        "    optimizer = tf.keras.optimizers.Adam(),\n",
        "    loss = tf.keras.losses.BinaryCrossentropy(),\n",
        "    metrics = [\n",
        "        tf.keras.metrics.RootMeanSquaredError(\"RMSE\")\n",
        "    ],\n",
        "    run_eagerly = True\n",
        ")"
      ],
      "execution_count": null,
      "outputs": []
    },
    {
      "cell_type": "code",
      "metadata": {
        "colab": {
          "base_uri": "https://localhost:8080/"
        },
        "id": "9PDFoTbcdkoK",
        "outputId": "cf53c57f-b305-44ad-e122-f253ac9d8849"
      },
      "source": [
        "callback = tf.keras.callbacks.EarlyStopping(monitor = 'loss', patience = 3)\n",
        "\n",
        "history = nn_model.fit(x = x_train, y = y_train, \n",
        "                       batch_size = 64, \n",
        "                       epochs = 100, \n",
        "                       steps_per_epoch = 1000,\n",
        "                       callbacks = [callback],\n",
        "                       \n",
        "                     # validation_data = (x_test, y_test),\n",
        "                     # validation_steps = 10,\n",
        "                     # validation_batch_size = 64\n",
        "                    )"
      ],
      "execution_count": null,
      "outputs": [
        {
          "name": "stdout",
          "output_type": "stream",
          "text": [
            "Epoch 1/100\n",
            "1000/1000 [==============================] - 29s 28ms/step - loss: 0.3031 - RMSE: 0.2507\n",
            "Epoch 2/100\n",
            "1000/1000 [==============================] - 28s 28ms/step - loss: 0.2677 - RMSE: 0.2255\n",
            "Epoch 3/100\n",
            "1000/1000 [==============================] - 28s 28ms/step - loss: 0.2585 - RMSE: 0.2224\n",
            "Epoch 4/100\n",
            "1000/1000 [==============================] - 28s 28ms/step - loss: 0.2532 - RMSE: 0.2189\n",
            "Epoch 5/100\n",
            "1000/1000 [==============================] - 28s 28ms/step - loss: 0.2557 - RMSE: 0.2221\n",
            "Epoch 6/100\n",
            "1000/1000 [==============================] - 28s 28ms/step - loss: 0.2557 - RMSE: 0.2226\n",
            "Epoch 7/100\n",
            "1000/1000 [==============================] - 28s 28ms/step - loss: 0.2546 - RMSE: 0.2211\n"
          ]
        }
      ]
    },
    {
      "cell_type": "code",
      "metadata": {
        "id": "MHZXZe9agMJz"
      },
      "source": [
        "# nn_model.save_weights(\n",
        "#     \"/content/drive/MyDrive/AnimeRecommendations/Interactions/NeuralNetworkModel/model\", overwrite=True\n",
        "# )"
      ],
      "execution_count": null,
      "outputs": []
    },
    {
      "cell_type": "code",
      "metadata": {
        "colab": {
          "background_save": true,
          "base_uri": "https://localhost:8080/"
        },
        "id": "038DIWBigTxo",
        "outputId": "0f69ad64-9ee8-4af9-b25b-c4db8d9c3087"
      },
      "source": [
        "nn_model.load_weights(\"/content/drive/MyDrive/AnimeRecommendations/Interactions/NeuralNetworkModel/model\")"
      ],
      "execution_count": null,
      "outputs": [
        {
          "data": {
            "text/plain": [
              "<tensorflow.python.training.tracking.util.CheckpointLoadStatus at 0x7f0f504d6210>"
            ]
          },
          "execution_count": null,
          "metadata": {},
          "output_type": "execute_result"
        }
      ]
    },
    {
      "cell_type": "markdown",
      "metadata": {
        "id": "DUdCmooRYjq4"
      },
      "source": [
        "## Comparing the models"
      ]
    },
    {
      "cell_type": "code",
      "metadata": {
        "colab": {
          "base_uri": "https://localhost:8080/"
        },
        "id": "Ibd8k5TYJKc4",
        "outputId": "717e0441-ded5-4fbf-dab4-d82f1e128430"
      },
      "source": [
        "mf_model.evaluate(x = x_val, y = y_val)"
      ],
      "execution_count": 33,
      "outputs": [
        {
          "output_type": "stream",
          "name": "stdout",
          "text": [
            "14063/14063 [==============================] - 119s 8ms/step - loss: 0.2795 - RMSE: 0.2306\n"
          ]
        },
        {
          "output_type": "execute_result",
          "data": {
            "text/plain": [
              "[0.2795208990573883, 0.23061399161815643]"
            ]
          },
          "metadata": {},
          "execution_count": 33
        }
      ]
    },
    {
      "cell_type": "code",
      "metadata": {
        "id": "PTxFvxrbYna3",
        "colab": {
          "base_uri": "https://localhost:8080/"
        },
        "outputId": "cf4baef8-ff7b-4025-c2f7-73e01b057006"
      },
      "source": [
        "nn_model.evaluate(x = x_val, y = y_val)"
      ],
      "execution_count": 34,
      "outputs": [
        {
          "output_type": "stream",
          "name": "stdout",
          "text": [
            "14063/14063 [==============================] - 101s 7ms/step - loss: 0.2502 - RMSE: 0.2189\n"
          ]
        },
        {
          "output_type": "execute_result",
          "data": {
            "text/plain": [
              "[0.25021466612815857, 0.21893906593322754]"
            ]
          },
          "metadata": {},
          "execution_count": 34
        }
      ]
    }
  ]
}