{
  "nbformat": 4,
  "nbformat_minor": 0,
  "metadata": {
    "colab": {
      "name": "User-Anime Ranting Predictions.ipynb",
      "provenance": [],
      "collapsed_sections": [],
      "machine_shape": "hm",
      "mount_file_id": "1SNhIRm8dfz7MP4I4Ng30iT1xhyncDZqK",
      "authorship_tag": "ABX9TyM45LhxGjA2J24Z8R1016hM",
      "include_colab_link": true
    },
    "kernelspec": {
      "display_name": "Python 3",
      "name": "python3"
    },
    "language_info": {
      "name": "python"
    },
    "accelerator": "GPU"
  },
  "cells": [
    {
      "cell_type": "markdown",
      "metadata": {
        "id": "view-in-github",
        "colab_type": "text"
      },
      "source": [
        "<a href=\"https://colab.research.google.com/github/nomomon/anime-recommendations/blob/main/User_Anime_Rating_Predictions.ipynb\" target=\"_parent\"><img src=\"https://colab.research.google.com/assets/colab-badge.svg\" alt=\"Open In Colab\"/></a>"
      ]
    },
    {
      "cell_type": "code",
      "metadata": {
        "colab": {
          "base_uri": "https://localhost:8080/"
        },
        "id": "PUNeUN_1JbAQ",
        "cellView": "form",
        "outputId": "c3e62591-ff99-41fc-bc14-4dcbf71ba6c1"
      },
      "source": [
        "#@title Kaggle API\n",
        "username = str(input(\"username\"))\n",
        "key = str(input(\"key\"))\n",
        "\n",
        "f = open(\"kaggle.json\", \"w\")\n",
        "f.write('{\"username\":\"'+username+'\",\"key\":\"'+key+'\"}')\n",
        "f.close()\n",
        "\n",
        "!mkdir -p ~/.kaggle\n",
        "!cp kaggle.json ~/.kaggle/\n",
        "!kaggle datasets download -d hernan4444/anime-recommendation-database-2020\n",
        "\n",
        "import os, re\n",
        "from zipfile import ZipFile\n",
        "\n",
        "with ZipFile('/content/anime-recommendation-database-2020.zip', 'r') as zipObj:\n",
        "   zipObj.extractall()\n",
        "\n",
        "def purge(dir, pattern):\n",
        "    for f in os.listdir(dir):\n",
        "        if pattern in f:\n",
        "            os.remove(os.path.join(dir, f))\n",
        "\n",
        "purge(\"/content/\", \".zip\")\n",
        "purge(\"/content/\", \".json\")"
      ],
      "execution_count": null,
      "outputs": [
        {
          "output_type": "stream",
          "name": "stdout",
          "text": [
            "Warning: Your Kaggle API key is readable by other users on this system! To fix this, you can run 'chmod 600 /root/.kaggle/kaggle.json'\n",
            "Downloading anime-recommendation-database-2020.zip to /content\n",
            " 99% 657M/661M [00:07<00:00, 96.2MB/s]\n",
            "100% 661M/661M [00:07<00:00, 88.5MB/s]\n"
          ]
        }
      ]
    },
    {
      "cell_type": "code",
      "metadata": {
        "id": "knCcMBuxBqIq"
      },
      "source": [
        "import pandas as pd\n",
        "import numpy as np\n",
        "import tensorflow as tf"
      ],
      "execution_count": null,
      "outputs": []
    },
    {
      "cell_type": "markdown",
      "metadata": {
        "id": "DMWiDA25J2ws"
      },
      "source": [
        "# Data Preprocessing"
      ]
    },
    {
      "cell_type": "code",
      "metadata": {
        "id": "eyy-fObFKWIh"
      },
      "source": [
        "anime = pd.read_csv(\"/content/anime.csv\")\n",
        "ratings = pd.read_csv(\"/content/animelist.csv\")"
      ],
      "execution_count": null,
      "outputs": []
    },
    {
      "cell_type": "code",
      "metadata": {
        "id": "cDtMSZYSD2E9",
        "colab": {
          "base_uri": "https://localhost:8080/",
          "height": 204
        },
        "outputId": "0d2b961c-a142-4649-93f1-97faad2de26a"
      },
      "source": [
        "ratings.head(5)"
      ],
      "execution_count": null,
      "outputs": [
        {
          "output_type": "execute_result",
          "data": {
            "text/html": [
              "<div>\n",
              "<style scoped>\n",
              "    .dataframe tbody tr th:only-of-type {\n",
              "        vertical-align: middle;\n",
              "    }\n",
              "\n",
              "    .dataframe tbody tr th {\n",
              "        vertical-align: top;\n",
              "    }\n",
              "\n",
              "    .dataframe thead th {\n",
              "        text-align: right;\n",
              "    }\n",
              "</style>\n",
              "<table border=\"1\" class=\"dataframe\">\n",
              "  <thead>\n",
              "    <tr style=\"text-align: right;\">\n",
              "      <th></th>\n",
              "      <th>user_id</th>\n",
              "      <th>anime_id</th>\n",
              "      <th>rating</th>\n",
              "      <th>watching_status</th>\n",
              "      <th>watched_episodes</th>\n",
              "    </tr>\n",
              "  </thead>\n",
              "  <tbody>\n",
              "    <tr>\n",
              "      <th>0</th>\n",
              "      <td>0</td>\n",
              "      <td>67</td>\n",
              "      <td>9</td>\n",
              "      <td>1</td>\n",
              "      <td>1</td>\n",
              "    </tr>\n",
              "    <tr>\n",
              "      <th>1</th>\n",
              "      <td>0</td>\n",
              "      <td>6702</td>\n",
              "      <td>7</td>\n",
              "      <td>1</td>\n",
              "      <td>4</td>\n",
              "    </tr>\n",
              "    <tr>\n",
              "      <th>2</th>\n",
              "      <td>0</td>\n",
              "      <td>242</td>\n",
              "      <td>10</td>\n",
              "      <td>1</td>\n",
              "      <td>4</td>\n",
              "    </tr>\n",
              "    <tr>\n",
              "      <th>3</th>\n",
              "      <td>0</td>\n",
              "      <td>4898</td>\n",
              "      <td>0</td>\n",
              "      <td>1</td>\n",
              "      <td>1</td>\n",
              "    </tr>\n",
              "    <tr>\n",
              "      <th>4</th>\n",
              "      <td>0</td>\n",
              "      <td>21</td>\n",
              "      <td>10</td>\n",
              "      <td>1</td>\n",
              "      <td>0</td>\n",
              "    </tr>\n",
              "  </tbody>\n",
              "</table>\n",
              "</div>"
            ],
            "text/plain": [
              "   user_id  anime_id  rating  watching_status  watched_episodes\n",
              "0        0        67       9                1                 1\n",
              "1        0      6702       7                1                 4\n",
              "2        0       242      10                1                 4\n",
              "3        0      4898       0                1                 1\n",
              "4        0        21      10                1                 0"
            ]
          },
          "metadata": {},
          "execution_count": 7
        }
      ]
    },
    {
      "cell_type": "code",
      "metadata": {
        "colab": {
          "base_uri": "https://localhost:8080/"
        },
        "id": "OddKB3oyOOHL",
        "outputId": "0bd0fe6f-b5a6-4427-b953-fe3f85c95a55"
      },
      "source": [
        "ratings[\"rating\"].value_counts()"
      ],
      "execution_count": null,
      "outputs": [
        {
          "output_type": "execute_result",
          "data": {
            "text/plain": [
              "0     46827035\n",
              "8     15422150\n",
              "7     14244633\n",
              "9     10235934\n",
              "6      7543377\n",
              "10     7144392\n",
              "5      4029645\n",
              "4      1845854\n",
              "3       905700\n",
              "2       545339\n",
              "1       480688\n",
              "Name: rating, dtype: int64"
            ]
          },
          "metadata": {},
          "execution_count": 8
        }
      ]
    },
    {
      "cell_type": "markdown",
      "metadata": {
        "id": "6PN9jN7WLVLs"
      },
      "source": [
        "In the dataset, if a person hasn't left a rating to an anime, it was marked as a zero. Let's remove the zeros, as they will just introduce noise later on. Might as well remove the `watching_status` and `watched_episodes`. They are usefull pieces of data, but we won't use them in this tutorial."
      ]
    },
    {
      "cell_type": "code",
      "metadata": {
        "id": "2rfk98wcLJT_"
      },
      "source": [
        "ratings = ratings[ratings[\"rating\"] > 0]\n",
        "ratings = ratings.drop(columns = [\"watching_status\", \"watched_episodes\"])"
      ],
      "execution_count": null,
      "outputs": []
    },
    {
      "cell_type": "code",
      "metadata": {
        "colab": {
          "base_uri": "https://localhost:8080/"
        },
        "id": "Z6O_FhTkPIv-",
        "outputId": "c62a5ac7-757e-42df-9eb2-d521ed4b9c41"
      },
      "source": [
        "num_users = ratings[\"user_id\"].nunique()\n",
        "num_anime = ratings[\"anime_id\"].nunique()\n",
        "\n",
        "print(f\"There are a total of {num_users} users found.\")\n",
        "print(f\"There are a total of {num_anime} anime found.\")\n",
        "\n",
        "print(\"Max user id:\", ratings[\"user_id\"].max())\n",
        "print(\"Max anime id:\", ratings[\"anime_id\"].max())"
      ],
      "execution_count": null,
      "outputs": [
        {
          "output_type": "stream",
          "name": "stdout",
          "text": [
            "There are a total of 313670 users found.\n",
            "There are a total of 17172 anime found.\n",
            "Max user id: 353404\n",
            "Max anime id: 48456\n"
          ]
        }
      ]
    },
    {
      "cell_type": "markdown",
      "metadata": {
        "id": "JFr1nQ7pK_4D"
      },
      "source": [
        "If we take a look at the anime and user ids, we can notice that some values there are missing. Let's make a two helper functions, for easy conversion between dataset ids and embedding ids."
      ]
    },
    {
      "cell_type": "code",
      "metadata": {
        "id": "fdrHdPV3Ptql"
      },
      "source": [
        "embId2user = sorted(ratings[\"user_id\"].unique())\n",
        "embId2anime = sorted(ratings[\"anime_id\"].unique())"
      ],
      "execution_count": null,
      "outputs": []
    },
    {
      "cell_type": "code",
      "metadata": {
        "id": "kJB-XaGCQysw"
      },
      "source": [
        "user2embId = {v: k for k, v in enumerate(embId2user)}\n",
        "anime2embId = {v: k for k, v in enumerate(embId2anime)}"
      ],
      "execution_count": null,
      "outputs": []
    },
    {
      "cell_type": "markdown",
      "metadata": {
        "id": "l15b5d46MbO8"
      },
      "source": [
        "Now, let's make the dataset. It will look like a tuples of `(user_id, anime_embId, rating)`. We'll make 3 sets: `train`, `test` and `val`."
      ]
    },
    {
      "cell_type": "code",
      "metadata": {
        "id": "xxPODUGFMflP"
      },
      "source": [
        "np.random.seed(seed = 42)\n",
        "\n",
        "def makeDataSet(df, split=0.95):\n",
        "    n = df.to_numpy()\n",
        "    \n",
        "    n = np.random.permutation(n)\n",
        "\n",
        "    x = n[:, :2]\n",
        "    y = n[:, 2]\n",
        "\n",
        "    for i in range(x.shape[0]):\n",
        "        x[i][0] = user2embId[x[i][0]]\n",
        "        x[i][1] = anime2embId[x[i][1]]\n",
        "\n",
        "    s1 = int(split * n.shape[0])\n",
        "    s2 = s1 + int((1 - split) * n.shape[0] / 10)\n",
        "    \n",
        "    return (x[:s1], y[:s1], x[s1:s2], y[s1:s2], x[s2:], y[s2:])"
      ],
      "execution_count": null,
      "outputs": []
    },
    {
      "cell_type": "code",
      "metadata": {
        "id": "302P1G-FSQw1"
      },
      "source": [
        "x_train, y_train, x_test, y_test, x_val, y_val = makeDataSet(ratings)"
      ],
      "execution_count": null,
      "outputs": []
    },
    {
      "cell_type": "markdown",
      "metadata": {
        "id": "vpbNLzFSceej"
      },
      "source": [
        "# Models"
      ]
    },
    {
      "cell_type": "code",
      "metadata": {
        "colab": {
          "base_uri": "https://localhost:8080/"
        },
        "id": "sOwjbc59J1Zk",
        "outputId": "ad2d56bc-140e-460e-f6fb-9a56c99d42ef"
      },
      "source": [
        "print(\"Num GPUs Available: \", len(tf.config.list_physical_devices('GPU')))"
      ],
      "execution_count": null,
      "outputs": [
        {
          "output_type": "stream",
          "name": "stdout",
          "text": [
            "Num GPUs Available:  1\n"
          ]
        }
      ]
    },
    {
      "cell_type": "markdown",
      "metadata": {
        "id": "3vmn2iticyfh"
      },
      "source": [
        "## Matrix Factorization"
      ]
    },
    {
      "cell_type": "code",
      "metadata": {
        "id": "kYgyxsiAx6lw"
      },
      "source": [
        "class MatrixFactorizationModel(tf.keras.Model):\n",
        "    def __init__(self, num_users, num_items, embedding_dim):\n",
        "        super(MatrixFactorizationModel, self).__init__()\n",
        "        \n",
        "        self.embedding_dim = embedding_dim\n",
        "        \n",
        "        self.user_embeddings = tf.keras.layers.Embedding(num_users, embedding_dim)\n",
        "        self.item_embeddings = tf.keras.layers.Embedding(num_items, embedding_dim)\n",
        "\n",
        "        self.user_biases = tf.keras.layers.Embedding(num_users, 1)\n",
        "        self.item_biases = tf.keras.layers.Embedding(num_items, 1)\n",
        "\n",
        "        self.bias = tf.Variable(tf.zeros([1]))\n",
        "\n",
        "        self.dropout = tf.keras.layers.Dropout(.5)\n",
        "\n",
        "    def call(self, inputs, training = False):\n",
        "        user_ids = inputs[:, 0]\n",
        "        item_ids = inputs[:, 1]\n",
        "\n",
        "        user_embedding = self.user_embeddings(user_ids) + self.user_biases(user_ids)\n",
        "        item_embedding = self.item_embeddings(item_ids) + self.item_biases(item_ids)\n",
        "\n",
        "        if training:\n",
        "            user_embedding = self.dropout(user_embedding, training = training)\n",
        "            item_embedding = self.dropout(item_embedding, training = training)\n",
        "\n",
        "        user_embedding = tf.reshape(user_embedding, [-1, self.embedding_dim])\n",
        "        item_embedding = tf.reshape(item_embedding, [-1, self.embedding_dim])\n",
        "\n",
        "        dot = tf.keras.layers.Dot(axes=1)([user_embedding, item_embedding]) + self.bias\n",
        "\n",
        "        return dot"
      ],
      "execution_count": null,
      "outputs": []
    },
    {
      "cell_type": "code",
      "metadata": {
        "id": "GPVE4ep2GRFk"
      },
      "source": [
        "mf_model = MatrixFactorizationModel(num_users = num_users, \n",
        "                                    num_items = num_anime, \n",
        "                                    embedding_dim = 64)\n",
        "\n",
        "mf_model.compile(\n",
        "    optimizer = tf.keras.optimizers.Adam(),\n",
        "    loss = tf.keras.losses.MeanSquaredError(),\n",
        "    metrics = [\n",
        "        tf.keras.metrics.RootMeanSquaredError(\"RMSE\")\n",
        "    ],\n",
        "    run_eagerly = True\n",
        ")"
      ],
      "execution_count": null,
      "outputs": []
    },
    {
      "cell_type": "code",
      "metadata": {
        "id": "M9s2ZqTeJWJe",
        "colab": {
          "base_uri": "https://localhost:8080/"
        },
        "outputId": "75a47b2c-a831-426a-fa4b-dd12b6b7449a"
      },
      "source": [
        "callback = tf.keras.callbacks.EarlyStopping(monitor = 'loss', patience = 3)\n",
        "\n",
        "history = mf_model.fit(x = x_train, y = y_train, \n",
        "                    batch_size = 64, \n",
        "                    epochs = 100, \n",
        "                    steps_per_epoch = 1000,\n",
        "                    callbacks = [callback],\n",
        "                    # validation_data = (x_test, y_test),\n",
        "                    # validation_steps = 10,\n",
        "                    # validation_batch_size = 64\n",
        "                    )"
      ],
      "execution_count": null,
      "outputs": [
        {
          "output_type": "stream",
          "name": "stdout",
          "text": [
            "Epoch 1/100\n",
            "1000/1000 [==============================] - 34s 31ms/step - loss: 3.1257 - RMSE: 1.7680\n",
            "Epoch 2/100\n",
            "1000/1000 [==============================] - 30s 30ms/step - loss: 3.1056 - RMSE: 1.7623\n",
            "Epoch 3/100\n",
            "1000/1000 [==============================] - 30s 30ms/step - loss: 3.1381 - RMSE: 1.7715\n",
            "Epoch 4/100\n",
            "1000/1000 [==============================] - 30s 30ms/step - loss: 3.0802 - RMSE: 1.7551\n",
            "Epoch 5/100\n",
            "1000/1000 [==============================] - 30s 30ms/step - loss: 3.1569 - RMSE: 1.7768\n",
            "Epoch 6/100\n",
            "1000/1000 [==============================] - 30s 30ms/step - loss: 3.1054 - RMSE: 1.7622\n",
            "Epoch 7/100\n",
            "1000/1000 [==============================] - 30s 30ms/step - loss: 3.1338 - RMSE: 1.7703\n"
          ]
        }
      ]
    },
    {
      "cell_type": "code",
      "metadata": {
        "id": "GZe9Oke065gZ"
      },
      "source": [
        "# mf_model.save_weights(\n",
        "#     \"/content/drive/MyDrive/AnimeRecommendations/MatrixFactorizationModel/model\", overwrite=True\n",
        "# )"
      ],
      "execution_count": null,
      "outputs": []
    },
    {
      "cell_type": "code",
      "metadata": {
        "colab": {
          "base_uri": "https://localhost:8080/"
        },
        "id": "RbVwQI4-Zq52",
        "outputId": "af87e00b-27f4-457c-96b9-56e8ae0330bc"
      },
      "source": [
        "mf_model.load_weights(\"/content/drive/MyDrive/AnimeRecommendations/MatrixFactorizationModel/model\")"
      ],
      "execution_count": null,
      "outputs": [
        {
          "output_type": "execute_result",
          "data": {
            "text/plain": [
              "<tensorflow.python.training.tracking.util.CheckpointLoadStatus at 0x7f8394447f90>"
            ]
          },
          "metadata": {},
          "execution_count": 22
        }
      ]
    },
    {
      "cell_type": "markdown",
      "metadata": {
        "id": "pAwYHMLee3hm"
      },
      "source": [
        "## Neural Network"
      ]
    },
    {
      "cell_type": "code",
      "metadata": {
        "id": "x2TEgnHvYjM6"
      },
      "source": [
        "class NeuralNetworkModel(tf.keras.Model):\n",
        "    def __init__(self, num_users, num_items, embedding_dim):\n",
        "        super(NeuralNetworkModel, self).__init__()\n",
        "        \n",
        "        self.embedding_dim = embedding_dim\n",
        "        \n",
        "        self.user_embeddings = tf.keras.layers.Embedding(num_users, embedding_dim)\n",
        "        self.item_embeddings = tf.keras.layers.Embedding(num_items, embedding_dim)\n",
        "\n",
        "        self.dense1 = tf.keras.layers.Dense(64, activation='relu')\n",
        "        self.dense2 = tf.keras.layers.Dense(1, activation='relu')\n",
        "\n",
        "        self.concat = tf.keras.layers.Concatenate()\n",
        "        self.dropout = tf.keras.layers.Dropout(.5)\n",
        "\n",
        "    def call(self, inputs, training = False):\n",
        "        user_ids = inputs[:, 0]\n",
        "        item_ids = inputs[:, 1]\n",
        "\n",
        "        user_embedding = self.user_embeddings(user_ids)\n",
        "        item_embedding = self.item_embeddings(item_ids)\n",
        "\n",
        "        if training:\n",
        "            user_embedding = self.dropout(user_embedding, training = training)\n",
        "            item_embedding = self.dropout(item_embedding, training = training)\n",
        "\n",
        "        user_embedding = tf.reshape(user_embedding, [-1, self.embedding_dim])\n",
        "        item_embedding = tf.reshape(item_embedding, [-1, self.embedding_dim])\n",
        "\n",
        "        x = self.concat([user_embedding, item_embedding])\n",
        "        x = self.dense1(x)\n",
        "        x = self.dense2(x)\n",
        "\n",
        "        return x"
      ],
      "execution_count": null,
      "outputs": []
    },
    {
      "cell_type": "code",
      "metadata": {
        "id": "7Z3Rx76ydbG-"
      },
      "source": [
        "nn_model = NeuralNetworkModel(num_users = num_users, \n",
        "                              num_items = num_anime, \n",
        "                              embedding_dim = 64)\n",
        "\n",
        "nn_model.compile(\n",
        "    optimizer = tf.keras.optimizers.Adam(),\n",
        "    loss = tf.keras.losses.MeanSquaredError(),\n",
        "    metrics = [\n",
        "        tf.keras.metrics.RootMeanSquaredError(\"RMSE\")\n",
        "    ],\n",
        "    run_eagerly = True\n",
        ")"
      ],
      "execution_count": null,
      "outputs": []
    },
    {
      "cell_type": "code",
      "metadata": {
        "colab": {
          "base_uri": "https://localhost:8080/"
        },
        "id": "9PDFoTbcdkoK",
        "outputId": "476387f0-d121-4be5-fa5a-ea397da6941b"
      },
      "source": [
        "callback = tf.keras.callbacks.EarlyStopping(monitor = 'loss', patience = 3)\n",
        "\n",
        "history = nn_model.fit(x = x_train, y = y_train, \n",
        "                       batch_size = 64, \n",
        "                       epochs = 100, \n",
        "                       steps_per_epoch = 1000,\n",
        "                       callbacks = [callback],\n",
        "                     # validation_data = (x_test, y_test),\n",
        "                     # validation_steps = 10,\n",
        "                     # validation_batch_size = 64\n",
        "                    )"
      ],
      "execution_count": null,
      "outputs": [
        {
          "output_type": "stream",
          "name": "stdout",
          "text": [
            "Epoch 1/100\n",
            "1000/1000 [==============================] - 29s 26ms/step - loss: 9.8189 - RMSE: 3.1335\n",
            "Epoch 2/100\n",
            "1000/1000 [==============================] - 26s 26ms/step - loss: 2.6797 - RMSE: 1.6370\n",
            "Epoch 3/100\n",
            "1000/1000 [==============================] - 26s 26ms/step - loss: 2.5304 - RMSE: 1.5907\n",
            "Epoch 4/100\n",
            "1000/1000 [==============================] - 26s 26ms/step - loss: 2.4396 - RMSE: 1.5619\n",
            "Epoch 5/100\n",
            "1000/1000 [==============================] - 26s 26ms/step - loss: 2.3850 - RMSE: 1.5443\n",
            "Epoch 6/100\n",
            "1000/1000 [==============================] - 26s 26ms/step - loss: 2.3514 - RMSE: 1.5334\n",
            "Epoch 7/100\n",
            "1000/1000 [==============================] - 26s 26ms/step - loss: 2.3309 - RMSE: 1.5267\n",
            "Epoch 8/100\n",
            "1000/1000 [==============================] - 26s 26ms/step - loss: 2.2873 - RMSE: 1.5124\n",
            "Epoch 9/100\n",
            "1000/1000 [==============================] - 26s 26ms/step - loss: 2.2818 - RMSE: 1.5106\n",
            "Epoch 10/100\n",
            "1000/1000 [==============================] - 26s 26ms/step - loss: 2.2580 - RMSE: 1.5027\n",
            "Epoch 11/100\n",
            "1000/1000 [==============================] - 26s 26ms/step - loss: 2.2005 - RMSE: 1.4834\n",
            "Epoch 12/100\n",
            "1000/1000 [==============================] - 26s 26ms/step - loss: 2.1797 - RMSE: 1.4764\n",
            "Epoch 13/100\n",
            "1000/1000 [==============================] - 26s 26ms/step - loss: 2.1906 - RMSE: 1.4801\n",
            "Epoch 14/100\n",
            "1000/1000 [==============================] - 26s 26ms/step - loss: 2.1455 - RMSE: 1.4648\n",
            "Epoch 15/100\n",
            "1000/1000 [==============================] - 26s 26ms/step - loss: 2.1672 - RMSE: 1.4722\n",
            "Epoch 16/100\n",
            "1000/1000 [==============================] - 26s 26ms/step - loss: 2.1373 - RMSE: 1.4620\n",
            "Epoch 17/100\n",
            "1000/1000 [==============================] - 26s 26ms/step - loss: 2.1353 - RMSE: 1.4613\n",
            "Epoch 18/100\n",
            "1000/1000 [==============================] - 26s 26ms/step - loss: 2.1283 - RMSE: 1.4589\n",
            "Epoch 19/100\n",
            "1000/1000 [==============================] - 26s 26ms/step - loss: 2.1100 - RMSE: 1.4526\n",
            "Epoch 20/100\n",
            "1000/1000 [==============================] - 26s 26ms/step - loss: 2.0618 - RMSE: 1.4359\n",
            "Epoch 21/100\n",
            "1000/1000 [==============================] - 26s 26ms/step - loss: 2.0622 - RMSE: 1.4360\n",
            "Epoch 22/100\n",
            "1000/1000 [==============================] - 26s 26ms/step - loss: 2.0928 - RMSE: 1.4466\n",
            "Epoch 23/100\n",
            "1000/1000 [==============================] - 26s 26ms/step - loss: 2.0495 - RMSE: 1.4316\n",
            "Epoch 24/100\n",
            "1000/1000 [==============================] - 26s 26ms/step - loss: 2.0409 - RMSE: 1.4286\n",
            "Epoch 25/100\n",
            "1000/1000 [==============================] - 26s 26ms/step - loss: 2.0519 - RMSE: 1.4325\n",
            "Epoch 26/100\n",
            "1000/1000 [==============================] - 26s 26ms/step - loss: 2.0355 - RMSE: 1.4267\n",
            "Epoch 27/100\n",
            "1000/1000 [==============================] - 26s 26ms/step - loss: 2.0428 - RMSE: 1.4293\n",
            "Epoch 28/100\n",
            "1000/1000 [==============================] - 26s 26ms/step - loss: 2.0549 - RMSE: 1.4335\n",
            "Epoch 29/100\n",
            "1000/1000 [==============================] - 26s 26ms/step - loss: 2.0353 - RMSE: 1.4266\n",
            "Epoch 30/100\n",
            "1000/1000 [==============================] - 25s 25ms/step - loss: 2.0359 - RMSE: 1.4268\n",
            "Epoch 31/100\n",
            "1000/1000 [==============================] - 26s 26ms/step - loss: 2.0121 - RMSE: 1.4185\n",
            "Epoch 32/100\n",
            "1000/1000 [==============================] - 26s 26ms/step - loss: 1.9938 - RMSE: 1.4120\n",
            "Epoch 33/100\n",
            "1000/1000 [==============================] - 25s 25ms/step - loss: 2.0057 - RMSE: 1.4162\n",
            "Epoch 34/100\n",
            "1000/1000 [==============================] - 26s 26ms/step - loss: 1.9802 - RMSE: 1.4072\n",
            "Epoch 35/100\n",
            "1000/1000 [==============================] - 26s 26ms/step - loss: 1.9826 - RMSE: 1.4080\n",
            "Epoch 36/100\n",
            "1000/1000 [==============================] - 26s 26ms/step - loss: 1.9886 - RMSE: 1.4102\n",
            "Epoch 37/100\n",
            "1000/1000 [==============================] - 26s 26ms/step - loss: 1.9577 - RMSE: 1.3992\n",
            "Epoch 38/100\n",
            "1000/1000 [==============================] - 26s 26ms/step - loss: 1.9818 - RMSE: 1.4078\n",
            "Epoch 39/100\n",
            "1000/1000 [==============================] - 25s 25ms/step - loss: 1.9919 - RMSE: 1.4113\n",
            "Epoch 40/100\n",
            "1000/1000 [==============================] - 26s 26ms/step - loss: 1.9704 - RMSE: 1.4037\n"
          ]
        }
      ]
    },
    {
      "cell_type": "code",
      "metadata": {
        "id": "MHZXZe9agMJz"
      },
      "source": [
        "# nn_model.save_weights(\n",
        "#     \"/content/drive/MyDrive/AnimeRecommendations/NeuralNetworkModel/model\", overwrite=True\n",
        "# )"
      ],
      "execution_count": null,
      "outputs": []
    },
    {
      "cell_type": "code",
      "metadata": {
        "colab": {
          "base_uri": "https://localhost:8080/"
        },
        "id": "038DIWBigTxo",
        "outputId": "26061914-b9da-460c-e623-035ba6eacb1b"
      },
      "source": [
        "nn_model.load_weights(\"/content/drive/MyDrive/AnimeRecommendations/NeuralNetworkModel/model\")"
      ],
      "execution_count": null,
      "outputs": [
        {
          "output_type": "execute_result",
          "data": {
            "text/plain": [
              "<tensorflow.python.training.tracking.util.CheckpointLoadStatus at 0x7f8347e4ebd0>"
            ]
          },
          "metadata": {},
          "execution_count": 18
        }
      ]
    },
    {
      "cell_type": "markdown",
      "metadata": {
        "id": "DUdCmooRYjq4"
      },
      "source": [
        "## Comparing the models"
      ]
    },
    {
      "cell_type": "code",
      "metadata": {
        "colab": {
          "base_uri": "https://localhost:8080/"
        },
        "id": "Ibd8k5TYJKc4",
        "outputId": "de3ed6e8-2887-41db-dc56-0abe0cc7710c"
      },
      "source": [
        "mf_model.evaluate(x = x_val, y = y_val)"
      ],
      "execution_count": null,
      "outputs": [
        {
          "output_type": "stream",
          "name": "stdout",
          "text": [
            "87747/87747 [==============================] - 629s 7ms/step - loss: 3.0599 - RMSE: 1.7492\n"
          ]
        },
        {
          "output_type": "execute_result",
          "data": {
            "text/plain": [
              "[3.059866428375244, 1.749247431755066]"
            ]
          },
          "metadata": {},
          "execution_count": 23
        }
      ]
    },
    {
      "cell_type": "code",
      "metadata": {
        "colab": {
          "base_uri": "https://localhost:8080/"
        },
        "id": "PTxFvxrbYna3",
        "outputId": "9f13fcca-494b-46a3-ef03-362e50f883d4"
      },
      "source": [
        "nn_model.evaluate(x = x_val, y = y_val)"
      ],
      "execution_count": null,
      "outputs": [
        {
          "output_type": "stream",
          "name": "stdout",
          "text": [
            "87747/87747 [==============================] - 573s 6ms/step - loss: 1.9272 - RMSE: 1.3882\n"
          ]
        },
        {
          "output_type": "execute_result",
          "data": {
            "text/plain": [
              "[1.9271608591079712, 1.3882222175598145]"
            ]
          },
          "metadata": {},
          "execution_count": 19
        }
      ]
    }
  ]
}